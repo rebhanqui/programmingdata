{
 "cells": [
  {
   "attachments": {},
   "cell_type": "markdown",
   "metadata": {},
   "source": [
    "# Programming for Data Analysis - Project\n",
    "### Rebecca Hannah Quinn\n",
    "\n",
    "## Introduction\n",
    "For this project I have decided to use the problem of \"missed calls\" in a team of 7 customer service agents over the course of 1 day/1 week/1 month (undecided which yet).\n",
    "The variables will be based on the number of staff scheduled for the day (staff_on) and their average hours (work_hours), the time they are logged in and **available** to take live calls (time_logged_in), the average length of time for their calls (call_length) and of course the number of missed calls (missed_calls).\n",
    "\n",
    "The average hours is 8 with a standard deviation of 20 minutes - some agents will log off to finish up after some calls but total time expected to be logged off is average of 20 minutes total per day, any longer is not desirable.\n",
    "\n",
    "The variable types are as follows:\n",
    "\n",
    "| variable | type | catagories (if any) or details |\n",
    "| -------- | ---- | ------------------------------ |\n",
    "| work_hours | non-negetive numerical | with 2 decimal places |\n",
    "| time_logged_in | non-negetive numerical | with 2 decimal places |\n",
    "| call_length | non-negetive numerical | with 2 decimal places |\n",
    "| missed calls | non-zero integer and catagorical | catagories below:| \n",
    "| | | **true_missed** |\n",
    "| | | **queue_hang_up** |\n",
    "| | | **zero_second_caller**|\n",
    "| | | **voicemail_left** |\n",
    "\n"
   ]
  }
 ],
 "metadata": {
  "kernelspec": {
   "display_name": "Python 3",
   "language": "python",
   "name": "python3"
  },
  "language_info": {
   "name": "python",
   "version": "3.9.13 (main, Aug 25 2022, 18:29:29) \n[Clang 12.0.0 ]"
  },
  "orig_nbformat": 4,
  "vscode": {
   "interpreter": {
    "hash": "38e2b36688e079b84d87fca17add6d5ca7c350c26e4821df0e23e2b3930c0607"
   }
  }
 },
 "nbformat": 4,
 "nbformat_minor": 2
}
