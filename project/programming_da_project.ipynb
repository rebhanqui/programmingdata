{
 "cells": [
  {
   "attachments": {},
   "cell_type": "markdown",
   "metadata": {},
   "source": [
    "# Programming for Data Analysis - Project\n",
    "### Rebecca Hannah Quinn\n",
    "\n",
    "## Introduction\n",
    "For this project I have decided to explore the impact of `staff_on` on the number of `missed_calls` in a team of **7** customer service agents over the course of **1 day**/**1 week**/**1 month** (undecided which is best yet). This is referencing real life data from my current workplace which I have received permission to use to synthesize the data to test. \n",
    "The variables will be based on the number of staff scheduled for the day `staff_on`, the time they are logged in and **available** to take live calls `time_logged_in`, the average length of time for their calls `call_length` and of course the number of missed calls `missed_calls`.\n",
    "\n",
    "The average hours is **8** or `8.0` with a standard deviation of **20 minutes** or `0.20` - some agents will log off to finish up after some calls but total time expected to be logged off is average of 20 minutes total per day, any longer is not desirable.\n",
    "\n",
    "The variable types are as follows:\n",
    "\n",
    "| Variable name | Type | Catagories (if any) or details |\n",
    "| -------- | ---- | ------------------------------ |\n",
    "| time_logged_in | non-negetive numerical | with 2 decimal places |\n",
    "| call_length | non-negetive numerical | with 2 decimal places |\n",
    "| missed_calls | non-zero integer and catagorical | ***Catagories below:***| \n",
    "| | | **true_missed** |\n",
    "| | | **queue_hang_up** |\n",
    "| | | **zero_second_caller**|\n",
    "| | | **voicemail_left** |\n",
    "\n"
   ]
  },
  {
   "attachments": {},
   "cell_type": "markdown",
   "metadata": {},
   "source": [
    "It is possible for this project we made need to create a variable for each staff member to show the differences in data. \n",
    "\n",
    "| Staff member | Variable name | Type |\n",
    "| ------------ | ------------- | ---- |\n",
    "| Betty | betty | string and catagorical |\n",
    "| Stephanie | stephanie | string and catagorical |\n",
    "| Harry | harry | string and catagorical |\n",
    "| Karl | karl | string and catagorical |\n",
    "| Robert | robert | string and catagorical |\n",
    "| Georgina | georgina | string and catagorical |"
   ]
  },
  {
   "cell_type": "markdown",
   "metadata": {},
   "source": []
  },
  {
   "cell_type": "markdown",
   "metadata": {},
   "source": []
  },
  {
   "cell_type": "markdown",
   "metadata": {},
   "source": []
  },
  {
   "cell_type": "code",
   "execution_count": null,
   "metadata": {},
   "outputs": [],
   "source": [
    "import numpy as np\n",
    "#imports the numpy package to be called later using np.random to model and synthesize data for this project\n",
    "import pandas as pd\n"
   ]
  },
  {
   "attachments": {},
   "cell_type": "markdown",
   "metadata": {},
   "source": [
    "### Variables and Values"
   ]
  },
  {
   "cell_type": "code",
   "execution_count": null,
   "metadata": {},
   "outputs": [],
   "source": [
    "#work hours average is 8 hours\n",
    "work_hours = (8)"
   ]
  },
  {
   "cell_type": "code",
   "execution_count": null,
   "metadata": {},
   "outputs": [],
   "source": [
    "#time logged in should be 32 hours a week, breaks and lunch are excluded, standard deviation is 20 minutes to account for extra time post call or toilet breaks - **must research deviation more**\n",
    "time_logged_in = np.random.randint(6.0, 9.0, 32)\n",
    "print(time_logged_in)"
   ]
  },
  {
   "cell_type": "code",
   "execution_count": null,
   "metadata": {},
   "outputs": [],
   "source": [
    "#calls could be any length but for this purpose I will make it 30 minutes for now\n",
    "call_length = np.random.randint(3.0, 30.0, 100)\n",
    "print(call_length)"
   ]
  },
  {
   "cell_type": "code",
   "execution_count": null,
   "metadata": {},
   "outputs": [],
   "source": [
    "missed_calls = np.random.randint(1.0, 10.0, 5)\n",
    "print(missed_calls)"
   ]
  },
  {
   "cell_type": "code",
   "execution_count": null,
   "metadata": {},
   "outputs": [],
   "source": [
    "import matplotlib.pyplot as plt\n",
    "plt.hist(time_logged_in, 6)\n"
   ]
  },
  {
   "cell_type": "code",
   "execution_count": null,
   "metadata": {},
   "outputs": [],
   "source": [
    "plt.hist(missed_calls)"
   ]
  },
  {
   "cell_type": "code",
   "execution_count": null,
   "metadata": {},
   "outputs": [],
   "source": [
    "plt.hist(call_length)"
   ]
  }
 ],
 "metadata": {
  "kernelspec": {
   "display_name": "Python 3",
   "language": "python",
   "name": "python3"
  },
  "language_info": {
   "codemirror_mode": {
    "name": "ipython",
    "version": 3
   },
   "file_extension": ".py",
   "mimetype": "text/x-python",
   "name": "python",
   "nbconvert_exporter": "python",
   "pygments_lexer": "ipython3",
   "version": "3.9.13"
  },
  "orig_nbformat": 4,
  "vscode": {
   "interpreter": {
    "hash": "38cca0c38332a56087b24af0bc80247f4fced29cb4f7f437d91dc159adec9c4e"
   }
  }
 },
 "nbformat": 4,
 "nbformat_minor": 2
}
