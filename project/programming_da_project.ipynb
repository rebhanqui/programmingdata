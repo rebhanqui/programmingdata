{
 "cells": [
  {
   "attachments": {},
   "cell_type": "markdown",
   "metadata": {},
   "source": [
    "# Programming for Data Analysis - Project\n",
    "### Rebecca Hannah Quinn\n",
    "\n",
    "## Introduction\n",
    "For this project I have decided to use the problem of \"missed calls\" in a team of **7** customer service agents over the course of **1 day**/**1 week**/**1 month** (undecided which is best yet). This is referencing real life data from my current workplace which I have received permission to use to synthesize the data to test. \n",
    "The variables will be based on the number of staff scheduled for the day `staff_on` and their average hours `work_hours`, the time they are logged in and **available** to take live calls `time_logged_in`, the average length of time for their calls `call_length` and of course the number of missed calls `missed_calls`.\n",
    "\n",
    "The average hours is **8** or `8.0` with a standard deviation of **20 minutes** or `0.20` - some agents will log off to finish up after some calls but total time expected to be logged off is average of 20 minutes total per day, any longer is not desirable.\n",
    "\n",
    "The variable types are as follows:\n",
    "\n",
    "| Variable name | Type | Catagories (if any) or details |\n",
    "| -------- | ---- | ------------------------------ |\n",
    "| work_hours | non-negetive numerical | with 2 decimal places |\n",
    "| time_logged_in | non-negetive numerical | with 2 decimal places |\n",
    "| call_length | non-negetive numerical | with 2 decimal places |\n",
    "| missed_calls | non-zero integer and catagorical | ***Catagories below:***| \n",
    "| | | **true_missed** |\n",
    "| | | **queue_hang_up** |\n",
    "| | | **zero_second_caller**|\n",
    "| | | **voicemail_left** |\n",
    "\n"
   ]
  },
  {
   "attachments": {},
   "cell_type": "markdown",
   "metadata": {},
   "source": [
    "It is possible for this project we made need to create a variable for each staff member to show the differences in data. \n",
    "\n",
    "| Staff member | Variable name | Type |\n",
    "| ------------ | ------------- | ---- |\n",
    "| Betty | betty | string and catagorical |\n",
    "| Stephanie | stephanie | string and catagorical |\n",
    "| Harry | harry | string and catagorical |\n",
    "| Karl | karl | string and catagorical |\n",
    "| Robert | robert | string and catagorical |\n",
    "| Georgina | georgina | string and catagorical |"
   ]
  },
  {
   "cell_type": "markdown",
   "metadata": {},
   "source": []
  },
  {
   "cell_type": "markdown",
   "metadata": {},
   "source": []
  },
  {
   "cell_type": "markdown",
   "metadata": {},
   "source": []
  },
  {
   "cell_type": "code",
   "execution_count": 126,
   "metadata": {},
   "outputs": [],
   "source": [
    "import numpy as np\n",
    "#imports the numpy package to be called later using np.random to model and synthesize data for this project"
   ]
  },
  {
   "attachments": {},
   "cell_type": "markdown",
   "metadata": {},
   "source": [
    "### Variables and Values"
   ]
  },
  {
   "cell_type": "code",
   "execution_count": 127,
   "metadata": {},
   "outputs": [],
   "source": [
    "#work hours average is 8 hours\n",
    "work_hours = (8)"
   ]
  },
  {
   "cell_type": "code",
   "execution_count": 128,
   "metadata": {},
   "outputs": [
    {
     "name": "stdout",
     "output_type": "stream",
     "text": [
      "[7 7 7 7 6 8 8 8 7 6 6 8 8 8 6 6 7 7 8 8 8 8 8 7 8 8 7 6 6 7 7 7]\n"
     ]
    }
   ],
   "source": [
    "#time logged in should be 32 hours a week, breaks and lunch are excluded, standard deviation is 20 minutes to account for extra time post call or toilet breaks - **must research deviation more**\n",
    "time_logged_in = np.random.randint(6.0, 9.0, 32)\n",
    "print(time_logged_in)"
   ]
  },
  {
   "cell_type": "code",
   "execution_count": 129,
   "metadata": {},
   "outputs": [
    {
     "name": "stdout",
     "output_type": "stream",
     "text": [
      "[22 18 10 16 17 19 21 17 21 22  8 14  5  8 29 27 26 29 27 24 27 17  4  9\n",
      " 13 12 14 20 11 23 11 18  4  9 23 19 17 23 23  6  8 19 28 29 29 10  5 14\n",
      " 29 23 17 11 21 13  7 27  7 12 17 27 29  4 23 12  8 18  8 20 27 20 16 27\n",
      " 13 15 20 27 25 29 17  6 14 29 11  6 13  5 15 11 10 12 24 12  7  4 16  9\n",
      " 26 16  4 11]\n"
     ]
    }
   ],
   "source": [
    "#calls could be any length but for this purpose I will make it 30 minutes for now\n",
    "call_length = np.random.randint(3.0, 30.0, 100)\n",
    "print(call_length)"
   ]
  },
  {
   "cell_type": "code",
   "execution_count": 130,
   "metadata": {},
   "outputs": [
    {
     "name": "stdout",
     "output_type": "stream",
     "text": [
      "[4 5 3 4 2]\n"
     ]
    }
   ],
   "source": [
    "missed_calls = np.random.randint(1.0, 10.0, 5)\n",
    "print(missed_calls)"
   ]
  },
  {
   "cell_type": "code",
   "execution_count": 131,
   "metadata": {},
   "outputs": [
    {
     "data": {
      "text/plain": [
       "(array([ 7.,  0.,  0., 12.,  0., 13.]),\n",
       " array([6.        , 6.33333333, 6.66666667, 7.        , 7.33333333,\n",
       "        7.66666667, 8.        ]),\n",
       " <BarContainer object of 6 artists>)"
      ]
     },
     "execution_count": 131,
     "metadata": {},
     "output_type": "execute_result"
    },
    {
     "data": {
      "image/png": "[encoded data removed]",
      "text/plain": [
       "<Figure size 640x480 with 1 Axes>"
      ]
     },
     "metadata": {},
     "output_type": "display_data"
    }
   ],
   "source": [
    "import matplotlib.pyplot as plt\n",
    "plt.hist(time_logged_in, 6)\n"
   ]
  },
  {
   "cell_type": "code",
   "execution_count": 132,
   "metadata": {},
   "outputs": [
    {
     "data": {
      "text/plain": [
       "(array([1., 0., 0., 1., 0., 0., 2., 0., 0., 1.]),\n",
       " array([2. , 2.3, 2.6, 2.9, 3.2, 3.5, 3.8, 4.1, 4.4, 4.7, 5. ]),\n",
       " <BarContainer object of 10 artists>)"
      ]
     },
     "execution_count": 132,
     "metadata": {},
     "output_type": "execute_result"
    },
    {
     "data": {
      "image/png": "[encoded data removed]",
      "text/plain": [
       "<Figure size 640x480 with 1 Axes>"
      ]
     },
     "metadata": {},
     "output_type": "display_data"
    }
   ],
   "source": [
    "plt.hist(missed_calls)"
   ]
  },
  {
   "cell_type": "code",
   "execution_count": 133,
   "metadata": {},
   "outputs": [
    {
     "data": {
      "text/plain": [
       "(array([11.,  8., 12.,  9., 10., 10., 10.,  8.,  5., 17.]),\n",
       " array([ 4. ,  6.5,  9. , 11.5, 14. , 16.5, 19. , 21.5, 24. , 26.5, 29. ]),\n",
       " <BarContainer object of 10 artists>)"
      ]
     },
     "execution_count": 133,
     "metadata": {},
     "output_type": "execute_result"
    },
    {
     "data": {
      "image/png": "[encoded data removed]",
      "text/plain": [
       "<Figure size 640x480 with 1 Axes>"
      ]
     },
     "metadata": {},
     "output_type": "display_data"
    }
   ],
   "source": [
    "plt.hist(call_length)"
   ]
  }
 ],
 "metadata": {
  "kernelspec": {
   "display_name": "Python 3",
   "language": "python",
   "name": "python3"
  },
  "language_info": {
   "codemirror_mode": {
    "name": "ipython",
    "version": 3
   },
   "file_extension": ".py",
   "mimetype": "text/x-python",
   "name": "python",
   "nbconvert_exporter": "python",
   "pygments_lexer": "ipython3",
   "version": "3.9.13"
  },
  "orig_nbformat": 4,
  "vscode": {
   "interpreter": {
    "hash": "38cca0c38332a56087b24af0bc80247f4fced29cb4f7f437d91dc159adec9c4e"
   }
  }
 },
 "nbformat": 4,
 "nbformat_minor": 2
}
