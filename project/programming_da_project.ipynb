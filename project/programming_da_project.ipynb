{
 "cells": [
  {
   "attachments": {},
   "cell_type": "markdown",
   "metadata": {},
   "source": [
    "# Programming for Data Analysis - Project\n",
    "### Rebecca Hannah Quinn\n",
    "\n",
    "## Introduction\n",
    "For this project I have decided to use the problem of \"missed calls\" in a team of **7** customer service agents over the course of **1 day**/**1 week**/**1 month** (undecided which is best yet). This is referencing real life data from my current workplace which I have received permission to use to synthesize the data to test. \n",
    "The variables will be based on the number of staff scheduled for the day `staff_on` and their average hours `work_hours`, the time they are logged in and **available** to take live calls `time_logged_in`, the average length of time for their calls `call_length` and of course the number of missed calls `missed_calls`.\n",
    "\n",
    "The average hours is **8** or `8.0` with a standard deviation of **20 minutes** or `0.20` - some agents will log off to finish up after some calls but total time expected to be logged off is average of 20 minutes total per day, any longer is not desirable.\n",
    "\n",
    "The variable types are as follows:\n",
    "\n",
    "| Variable name | Type | Catagories (if any) or details |\n",
    "| -------- | ---- | ------------------------------ |\n",
    "| work_hours | non-negetive numerical | with 2 decimal places |\n",
    "| time_logged_in | non-negetive numerical | with 2 decimal places |\n",
    "| call_length | non-negetive numerical | with 2 decimal places |\n",
    "| missed_calls | non-zero integer and catagorical | ***Catagories below:***| \n",
    "| | | **true_missed** |\n",
    "| | | **queue_hang_up** |\n",
    "| | | **zero_second_caller**|\n",
    "| | | **voicemail_left** |\n",
    "\n"
   ]
  },
  {
   "attachments": {},
   "cell_type": "markdown",
   "metadata": {},
   "source": [
    "It is possible for this project we made need to create a variable for each staff member to show the differences in data. \n",
    "\n",
    "| Staff member | Variable name | Type |\n",
    "| ------------ | ------------- | ---- |\n",
    "| Betty | betty | string and catagorical |\n",
    "| Stephanie | stephanie | string and catagorical |\n",
    "| Harry | harry | string and catagorical |\n",
    "| Karl | karl | string and catagorical |\n",
    "| Robert | robert | string and catagorical |\n",
    "| Georgina | georgina | string and catagorical |"
   ]
  },
  {
   "cell_type": "markdown",
   "metadata": {},
   "source": []
  },
  {
   "cell_type": "markdown",
   "metadata": {},
   "source": []
  },
  {
   "cell_type": "markdown",
   "metadata": {},
   "source": []
  },
  {
   "cell_type": "code",
   "execution_count": 1,
   "metadata": {},
   "outputs": [
    {
     "ename": "TypeError",
     "evalue": "'module' object is not callable",
     "output_type": "error",
     "traceback": [
      "\u001b[0;31m---------------------------------------------------------------------------\u001b[0m",
      "\u001b[0;31mTypeError\u001b[0m                                 Traceback (most recent call last)",
      "\u001b[1;32m/Users/rebeccaquinn/Desktop/Data Analysis 22-24/S2-23/programmingdata/project/programming_da_project.ipynb Cell 6\u001b[0m in \u001b[0;36m<cell line: 10>\u001b[0;34m()\u001b[0m\n\u001b[1;32m      <a href='vscode-notebook-cell:/Users/rebeccaquinn/Desktop/Data%20Analysis%2022-24/S2-23/programmingdata/project/programming_da_project.ipynb#W5sZmlsZQ%3D%3D?line=6'>7</a>\u001b[0m work_hours \u001b[39m=\u001b[39m (\u001b[39m8.0\u001b[39m)\n\u001b[1;32m      <a href='vscode-notebook-cell:/Users/rebeccaquinn/Desktop/Data%20Analysis%2022-24/S2-23/programmingdata/project/programming_da_project.ipynb#W5sZmlsZQ%3D%3D?line=8'>9</a>\u001b[0m \u001b[39m#time logged in should be 32 hours a week, breaks and lunch are excluded, standard deviation is 20 minutes to account for extra time post call or toilet breaks - **must research deviation more**\u001b[39;00m\n\u001b[0;32m---> <a href='vscode-notebook-cell:/Users/rebeccaquinn/Desktop/Data%20Analysis%2022-24/S2-23/programmingdata/project/programming_da_project.ipynb#W5sZmlsZQ%3D%3D?line=9'>10</a>\u001b[0m time_logged_in \u001b[39m=\u001b[39m (np\u001b[39m.\u001b[39;49mrandom(\u001b[39m32.0\u001b[39;49m, \u001b[39m0.20\u001b[39;49m))\n\u001b[1;32m     <a href='vscode-notebook-cell:/Users/rebeccaquinn/Desktop/Data%20Analysis%2022-24/S2-23/programmingdata/project/programming_da_project.ipynb#W5sZmlsZQ%3D%3D?line=11'>12</a>\u001b[0m \u001b[39m#calls could be any length but for this purpose I will make it 30 minutes for now\u001b[39;00m\n\u001b[1;32m     <a href='vscode-notebook-cell:/Users/rebeccaquinn/Desktop/Data%20Analysis%2022-24/S2-23/programmingdata/project/programming_da_project.ipynb#W5sZmlsZQ%3D%3D?line=12'>13</a>\u001b[0m call_length \u001b[39m=\u001b[39m (np\u001b[39m.\u001b[39mrandom(\u001b[39m0.30\u001b[39m))\n",
      "\u001b[0;31mTypeError\u001b[0m: 'module' object is not callable"
     ]
    }
   ],
   "source": [
    "from random import random\n",
    "#imports random function\n",
    "import numpy as np\n",
    "#imports the numpy package to be called later using np.random to model and synthesize data for this project\n",
    "\n",
    "#work hours average is 8 hours\n",
    "work_hours = (8.0)\n",
    "\n",
    "#time logged in should be 32 hours a week, breaks and lunch are excluded, standard deviation is 20 minutes to account for extra time post call or toilet breaks - **must research deviation more**\n",
    "time_logged_in = (np.random(32.0, 0.20))\n",
    "\n",
    "#calls could be any length but for this purpose I will make it 30 minutes for now\n",
    "call_length = (np.random(0.30))\n",
    "\n",
    "print(work_hours)\n",
    "print(time_logged_in)\n",
    "print(call_length)"
   ]
  }
 ],
 "metadata": {
  "kernelspec": {
   "display_name": "Python 3",
   "language": "python",
   "name": "python3"
  },
  "language_info": {
   "codemirror_mode": {
    "name": "ipython",
    "version": 3
   },
   "file_extension": ".py",
   "mimetype": "text/x-python",
   "name": "python",
   "nbconvert_exporter": "python",
   "pygments_lexer": "ipython3",
   "version": "3.9.13"
  },
  "orig_nbformat": 4,
  "vscode": {
   "interpreter": {
    "hash": "38cca0c38332a56087b24af0bc80247f4fced29cb4f7f437d91dc159adec9c4e"
   }
  }
 },
 "nbformat": 4,
 "nbformat_minor": 2
}
