{
 "cells": [
  {
   "cell_type": "markdown",
   "metadata": {},
   "source": [
    "# Programming for Data Analysis\n",
    "\n",
    "## Project 1 - HDIP in Data Analytics 2023\n",
    "\n",
    "<br>\n",
    "\n",
    "<details>\n",
    "<summary> Student Information </summary>\n",
    "    \n",
    "| Info | Details |\n",
    "| -------- | -------- |\n",
    "| Course: | KDATG_L08_Y1 |\n",
    "| Author: | Rebecca Hannah Quinn |\n",
    "| Student Number: | G00425671 |\n",
    "    \n",
    "</details>\n",
    "\n",
    "---"
   ]
  },
  {
   "cell_type": "markdown",
   "metadata": {},
   "source": [
    "### An Investigation into BMI and Personal Fitness\n",
    "\n",
    "For this project I will investigate a real world phenomena and investigate it by synthesising data and plotting the results through calculation and code from various python libraries. The top is on exercise and the body mass index and how it is lowered, or maintained or raised depending on the hours spent working out, age and heart rate or BPM.\n",
    "#### Overall Health and BMI\n",
    "\n",
    "Body Mass Index or BMI is a way to calculate an individuals health in regards to their weight. It is basically a tool that uses height and weight to determine the persons status. However, BMI may not alone provide enough health information of the individual to determine overall health, other factors such as age, sex, activity level and current body fat and muscle density should be considered as well, but the BMI scale can give a good idea of the direction they should head in or if anything further may need to be assessed. <sup> [^1] [^2] [^3] </sup>\n",
    "\n",
    "**BMI Formula:**\n",
    "`BMI = kg/m2`\n",
    "\n",
    "#### Heart Rate, Exercise Habits and Age\n",
    "\n",
    "In addition to overall health evaluations, heart rate or BPM is analyzed during both activity and rest. (For this investigation it is assumed to be during rest and based on exercise hours per week). Regulare aerobic exercise and exercise in general is highly recommended to improve heart stregth which in turn will benefit everything from nutrition to phyiscal performance and in turn your BMI. If we assume BMI is regulated or lowered depending on more exercise a week.\n",
    "A subfactor of heart rate health is also looked at through target zones and max heart rates depending on age.\n",
    "\n",
    "For example:\n",
    "\n",
    "| AGE | Target Heart Rate Zone | MAX Heart Rate |\n",
    "| --- | ---------------------- | -------------- |\n",
    "| 20 | 100 BPM - 170 BPM | 200 bpm |\n",
    "| 80 | 70 BPM - 119 BPM | 140 |\n",
    "\n",
    "To measure your ideal BPM you must make sure you are within 50% - 80% of your maximum BPM based on your age.<sup> [^5] [^6] </sup>\n"
   ]
  },
  {
   "cell_type": "markdown",
   "metadata": {},
   "source": [
    "<details>\n",
    "\n",
    "<summary>\n",
    "\n",
    "Introduction References\n",
    "    \n",
    "</summary>\n",
    "\n",
    "[^1]: [BMI limitations: Age and sex, body composition, and health] (https://www.medicalnewstoday.com/articles/323543#takeaway) <br>\n",
    "[^2]: [Effects of Exercise Interventions on Weight, Body Mass Index, Lean Body Mass and Accumulated Visceral Fat in Overweight and Obese Individuals: A Systematic Review and Meta-Analysis of Randomized Controlled Trials - PMC] (https://www.ncbi.nlm.nih.gov/pmc/articles/PMC7967650/#:~:text=Decreasing%20accumulation%20of%20fat%20is,low%20visceral%20fat%20%5B7%5D.) <br>\n",
    "[^3]: [What is the body mass index (BMI)? - NHS] (https://www.nhs.uk/common-health-questions/lifestyle/what-is-the-body-mass-index-bmi/)<br>\n",
    "[^4]: [Target heart rate for exercise | University of Iowa Hospitals & Clinics] (https://uihc.org/health-topics/target-heart-rate-exercise)<br>\n",
    "[^5]: What your heart rate is telling you - Harvard Health (https://www.health.harvard.edu/heart-health/what-your-heart-rate-is-telling-you)<br>\n",
    "\n",
    "</details>\n",
    "\n",
    "---\n"
   ]
  },
  {
   "cell_type": "code",
   "execution_count": null,
   "metadata": {},
   "outputs": [],
   "source": [
    "#importing libraries for use in project code below\n",
    "import numpy as np\n",
    "import pandas as pd\n",
    "import matplotlib.pyplot as plt\n",
    "import seaborn as sns\n",
    "\n",
    "#For error experienced on line 250.\n",
    "import warnings\n",
    "warnings.simplefilter(action='ignore', category=FutureWarning)\n",
    "print('x' in np.arange(5))   #returns False, without Warning\n"
   ]
  },
  {
   "cell_type": "markdown",
   "metadata": {},
   "source": [
    "<details>\n",
    "<summary> Python Library References: </summary>\n",
    "    \n",
    "[Numpy] https://numpy.org <br>\n",
    "[Pandas] https://pandas.pydata.org <br>\n",
    "[Matplotlib] https://matplotlib.org <br>\n",
    "[Seaborn] https://seaborn.pydata.org <br>"
   ]
  },
  {
   "cell_type": "markdown",
   "metadata": {},
   "source": [
    "To install all within your own files for use please see previous section to import each.\n",
    "\n",
    "---\n"
   ]
  },
  {
   "cell_type": "markdown",
   "metadata": {},
   "source": [
    "### Variables & Distributions:"
   ]
  },
  {
   "cell_type": "markdown",
   "metadata": {},
   "source": [
    "#### `workout_hours` \n",
    "A catagorical variable with set values indicating the hours of exercise with a range of 1 to 5 hours per week. \n",
    "<sup> [^6] [^7] [^8] </sup>\n",
    "\n",
    "<br>\n",
    "\n",
    "#### `heart_rate` \n",
    "A continuous variable as heart rates, when measure either in real life or synthetically created, could have any number of infinite value. For this investigation I will use 60 - 200bpm as this is the min and max any person between the age of 18 and 80 may experience with exercise depending on their fitnes level. This is data generated using a `np.normal` distribution, using 70 as the mean, 10 for the standard deviation and the size/shape is 100 (people) <sup> [^9] [^10] </sup>\n",
    "\n",
    "<br>\n",
    "\n",
    "#### `age` \n",
    "A discrete variable and will generate the age through `np.random` sub.package between ages of 18 and 80. This data will be generated using the `randint()` function. <sup> [^11] </sup>\n",
    "\n",
    "<br>\n",
    "\n",
    "#### `bmi` \n",
    "A continuous variable as `heart_rate`. It is assumed for this investigation that BMI decreases or will stay at a healthy BMI with increasing or continued exercise hours following a normal distribution similar to `heart_rate`. <sup> [^12] </sup>\n",
    "\n",
    "<br>\n",
    "\n",
    "Using these variables and their distributions, I hope to find that increased exercise weekly is beneficial in any age and that older ages may exercise less and might have a higher BMI as would be the assumption in reality.\n",
    "<sup> [^13] </sup>"
   ]
  },
  {
   "cell_type": "markdown",
   "metadata": {},
   "source": [
    "<details>  \n",
    "<summary> \n",
    "\n",
    "###### References - Variables & Distributions \n",
    "    \n",
    "</summary>\n",
    "\n",
    "[^6]: [Categorical data — pandas 2.1.3 documentation] (https://pandas.pydata.org/docs/user_guide/categorical.html)<br>\n",
    "[^7]: [Variable Types: Variable Types Cheatsheet - Quantitative Vs. Categorical Variables| Codecademy] (https://www.codecademy.com/learn/stats-variable-types/modules/stats-variable-types/cheatsheet#)<br>\n",
    "[^8]: [Visualizing categorical data — seaborn 0.13.0 documentation] (https://seaborn.pydata.org/tutorial/categorical.html)<br>\n",
    "[^9]: [When and How to Categorize Continuous Variables in Python | by Max Hilsdorf | Level Up Coding] (https://levelup.gitconnected.com/when-and-how-to-categorize-continuous-variables-in-python-f4c3b357dd46)<br>\n",
    "[^10]: [What your heart rate is telling you - Harvard Health] (https://www.health.harvard.edu/heart-health/what-your-heart-rate-is-telling-you)<br>\n",
    "[^11]: [How to Use NumPy Random choice() in Python?] (https://sparkbyexamples.com/python/how-to-use-numpy-random-choice-in-python/)<br>\n",
    "[^12]: [Target heart rate for exercise | University of Iowa Hospitals & Clinics] (https://uihc.org/health-topics/target-heart-rate-exercise)<br>\n",
    "[^13]: [Python Feature Engineering Cookbook] (https://subscription.packtpub.com/book/data/9781789806311/1/ch01lvl1sec03/identifying-numerical-and-categorical-variables)<br>\n",
    "    \n",
    "</details>\n"
   ]
  },
  {
   "cell_type": "markdown",
   "metadata": {},
   "source": [
    "---\n",
    "\n",
    "### Dataset Generation and Synthetic Data:"
   ]
  },
  {
   "cell_type": "code",
   "execution_count": null,
   "metadata": {},
   "outputs": [],
   "source": [
    "#Data creation for health dataset\n",
    "#Hours of exercise per week\n",
    "workout_hours = np.random.choice([1, 2, 3, 4, 5], size=100)"
   ]
  },
  {
   "cell_type": "markdown",
   "metadata": {},
   "source": [
    "`np.random.choice` is a 1-D Array and gives the choice of the 5 hours of exercise samples given (1-5). The shape of the data is the size(100) which is our 100 people/information points to generate."
   ]
  },
  {
   "cell_type": "code",
   "execution_count": null,
   "metadata": {},
   "outputs": [],
   "source": [
    "#14 https://numpy.org/doc/stable/reference/random/generated/numpy.random.choice.html"
   ]
  },
  {
   "cell_type": "code",
   "execution_count": null,
   "metadata": {},
   "outputs": [],
   "source": [
    "#Heart Rate\n",
    "heart_rate = np.random.normal(70, 10, size=100)\n",
    "#mean hr based on search with standard deviation of 10, this is also the base/resting heart rate."
   ]
  },
  {
   "cell_type": "code",
   "execution_count": null,
   "metadata": {},
   "outputs": [],
   "source": [
    "#15 https://numpy.org/doc/stable/reference/random/generated/numpy.random.normal.html"
   ]
  },
  {
   "cell_type": "code",
   "execution_count": null,
   "metadata": {},
   "outputs": [],
   "source": [
    "#age range\n",
    "age = np.random.randint(18, 81, size=100)"
   ]
  },
  {
   "cell_type": "code",
   "execution_count": null,
   "metadata": {},
   "outputs": [],
   "source": [
    "#16 https://numpy.org/doc/stable/reference/random/generated/numpy.random.randint.html"
   ]
  },
  {
   "cell_type": "code",
   "execution_count": null,
   "metadata": {},
   "outputs": [],
   "source": [
    "#bmi\n",
    "meanbmi = 27 - (workout_hours * 0.5)\n",
    "bmi = np.random.normal(meanbmi, 3, size=100)\n",
    "#assumed that the more you workout the lower you BMI "
   ]
  },
  {
   "cell_type": "markdown",
   "metadata": {},
   "source": [
    "To check that the variables are working and the kernal is working:"
   ]
  },
  {
   "cell_type": "code",
   "execution_count": null,
   "metadata": {},
   "outputs": [],
   "source": [
    "print(meanbmi)"
   ]
  },
  {
   "cell_type": "code",
   "execution_count": null,
   "metadata": {},
   "outputs": [],
   "source": [
    "print(bmi)"
   ]
  },
  {
   "cell_type": "markdown",
   "metadata": {},
   "source": [
    "## Data Frame Creation"
   ]
  },
  {
   "cell_type": "code",
   "execution_count": null,
   "metadata": {},
   "outputs": [],
   "source": [
    "data = pd.DataFrame({\n",
    "    'Workout_Hours': workout_hours,\n",
    "    'BMI': bmi,\n",
    "    'Heart_Rate': heart_rate,\n",
    "    'Age': age\n",
    "})"
   ]
  },
  {
   "cell_type": "code",
   "execution_count": null,
   "metadata": {},
   "outputs": [],
   "source": [
    "#17 https://pandas.pydata.org/docs/reference/api/pandas.DataFrame.html\n",
    "#18 https://www.w3schools.com/python/pandas/pandas_dataframes.asp"
   ]
  },
  {
   "cell_type": "markdown",
   "metadata": {},
   "source": [
    "Test dataframe was created and functioning using the `describe()` method. Displays first 5 rows as standard but I have put 100 in between the brackets to see 100 data points:\n"
   ]
  },
  {
   "cell_type": "code",
   "execution_count": null,
   "metadata": {},
   "outputs": [],
   "source": [
    "print(data.head(101))"
   ]
  },
  {
   "cell_type": "code",
   "execution_count": null,
   "metadata": {},
   "outputs": [],
   "source": [
    "#19 https://pandas.pydata.org/docs/reference/api/pandas.DataFrame.head.html"
   ]
  },
  {
   "cell_type": "markdown",
   "metadata": {},
   "source": [
    "#### Summary of data using the `describe()` method"
   ]
  },
  {
   "cell_type": "code",
   "execution_count": null,
   "metadata": {},
   "outputs": [],
   "source": [
    "#summarize data\n",
    "print(data.describe())"
   ]
  },
  {
   "cell_type": "code",
   "execution_count": null,
   "metadata": {},
   "outputs": [],
   "source": [
    "#20 https://pandas.pydata.org/docs/reference/api/pandas.DataFrame.describe.html"
   ]
  },
  {
   "cell_type": "markdown",
   "metadata": {},
   "source": [
    "---\n",
    "\n",
    "## Plotting\n",
    "\n",
    "By selecting the right type of plot to visualize the above data we can gain valuable insight into the relationships of each of the four variables and their impact on the BMI. \n",
    "\n",
    "#### Pairplot\n",
    "\n",
    "A pairplot is used to identify correlations and trends quickly for the initial investigation and can assist in directing which variables to focus on or investigate further. \n",
    "\n",
    "#### Boxplot\n",
    "\n",
    "\n",
    "\n",
    "#### Heatmap\n",
    "\n",
    "\n"
   ]
  },
  {
   "cell_type": "markdown",
   "metadata": {},
   "source": [
    "Scatter Plot - pairplot() using seaborn shows the relationships between the variables"
   ]
  },
  {
   "cell_type": "code",
   "execution_count": null,
   "metadata": {},
   "outputs": [],
   "source": [
    "sns.pairplot(data)\n",
    "plt.show()"
   ]
  },
  {
   "cell_type": "code",
   "execution_count": null,
   "metadata": {},
   "outputs": [],
   "source": [
    "plt.figure(figsize = (12, 5))\n",
    "\n",
    "plt.subplot(1 ,3, 1)\n",
    "sns.scatterplot(x=workout_hours, y=bmi, data=data)\n",
    "plt.title('Workout Hours Verses BMI')\n",
    "\n",
    "plt.subplot(1, 3, 2)\n",
    "sns.scatterplot(x=age, y=heart_rate, data=data)\n",
    "plt.title('Age Verses Heart Rate')\n",
    "\n",
    "plt.subplot(1, 3, 3)\n",
    "sns.scatterplot(x=bmi, y=heart_rate, data=data)\n",
    "plt.title('BMI verses Heart Rate')\n",
    "\n",
    "plt.tight_layout()\n",
    "plt.show()"
   ]
  },
  {
   "cell_type": "code",
   "execution_count": null,
   "metadata": {},
   "outputs": [],
   "source": [
    "#boxplot\n",
    "boxplot = sns.catplot(x=workout_hours, y=bmi, data=data, kind=\"box\")\n",
    "plt.xlabel('Workout Hours')\n",
    "plt.ylabel('BMI')\n",
    "plt.title('Boxplot of BMI verses Workout Hours')\n",
    "plt.show(boxplot)"
   ]
  },
  {
   "cell_type": "code",
   "execution_count": null,
   "metadata": {},
   "outputs": [],
   "source": [
    "#heatmap for showing stronger relations between variables\n",
    "\n",
    "#calculate the relationship of the data in the dataframe generated earlier\n",
    "correlation = data.corr()\n",
    "\n",
    "#plot the heatmap\n",
    "plt.figure(figsize=(10, 8))\n",
    "sns.heatmap(correlation, annot=True, cmap='autumn', fmt='.2f')\n",
    "plt.title('Variables Correlation')\n",
    "plt.show()"
   ]
  },
  {
   "cell_type": "code",
   "execution_count": null,
   "metadata": {},
   "outputs": [],
   "source": []
  }
 ],
 "metadata": {
  "kernelspec": {
   "display_name": "Python 3 (ipykernel)",
   "language": "python",
   "name": "python3"
  },
  "language_info": {
   "codemirror_mode": {
    "name": "ipython",
    "version": 3
   },
   "file_extension": ".py",
   "mimetype": "text/x-python",
   "name": "python",
   "nbconvert_exporter": "python",
   "pygments_lexer": "ipython3",
   "version": "3.10.6 (v3.10.6:9c7b4bd164, Aug  1 2022, 17:13:48) [Clang 13.0.0 (clang-1300.0.29.30)]"
  },
  "vscode": {
   "interpreter": {
    "hash": "aee8b7b246df8f9039afb4144a1f6fd8d2ca17a180786b69acc140d282b71a49"
   }
  }
 },
 "nbformat": 4,
 "nbformat_minor": 2
}
