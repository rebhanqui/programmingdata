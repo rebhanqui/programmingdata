{
 "cells": [
  {
   "cell_type": "markdown",
   "metadata": {},
   "source": [
    "Project Intro:\n",
    "This investigation using synthetic data aims to explore the connections between the fitness level, heart rate, age and body mass index (BMI) of 100 individuals. The information gained from this data will help us look at how these factors relate to one another and the impacts each have on health and fitness."
   ]
  },
  {
   "cell_type": "code",
   "execution_count": null,
   "metadata": {},
   "outputs": [],
   "source": [
    "#importing libraries for use in project code below\n",
    "import numpy as np\n",
    "import pandas as pd\n",
    "import matplotlib.pyplot as plt\n",
    "import seaborn as sns"
   ]
  },
  {
   "cell_type": "code",
   "execution_count": null,
   "metadata": {},
   "outputs": [],
   "source": [
    "#Packages References:\n",
    "#https://numpy.org\n",
    "#https://pandas.pydata.org\n",
    "#https://matplotlib.org\n",
    "#https://seaborn.pydata.org"
   ]
  },
  {
   "cell_type": "markdown",
   "metadata": {},
   "source": [
    "Variables & Distributions:\n",
    "\n",
    "`workout_hours` - catagorical/discrete variable (set values indicating hours of exercise 1-5 each week) and this data is synthesise using the choice random method between the hour number options.\n",
    "`heart_rate` - continuous variable - as heart rate could have any number of infinite values. For this we will use 60 - 200bpm as this is the range of optimal heart rates for people between 20 and 80 (changes depending on age as we will hopefully see) and is generated using a normal distribution\n",
    "`age` - discrete variable - will generate the age through random package np between ages of 18 and 80. This data will be generated using randint.\n",
    "`bmi` - continuous variable like heart_rate - It is assumed that BMI increases with increasing exercise hours following a normal distribution similar to heart_rate"
   ]
  },
  {
   "cell_type": "code",
   "execution_count": null,
   "metadata": {},
   "outputs": [],
   "source": [
    "#References Variables & Distributions\n",
    "#https://pandas.pydata.org/docs/user_guide/categorical.html\n",
    "#https://www.codecademy.com/learn/stats-variable-types/modules/stats-variable-types/cheatsheet#\n",
    "#https://seaborn.pydata.org/tutorial/categorical.html\n",
    "#https://www.codecademy.com/learn/mlef-exploratory-data-analysis-in-python/modules/mlef-variable-types-for-data-science/cheatsheet\n",
    "#https://levelup.gitconnected.com/when-and-how-to-categorize-continuous-variables-in-python-f4c3b357dd46\n",
    "#https://subscription.packtpub.com/book/data/9781789806311/1/ch01lvl1sec03/identifying-numerical-and-categorical-variables\n",
    "#https://www.health.harvard.edu/heart-health/what-your-heart-rate-is-telling-you\n",
    "#https://uihc.org/health-topics/target-heart-rate-exercise\n",
    "#https://sparkbyexamples.com/python/how-to-use-numpy-random-choice-in-python/"
   ]
  },
  {
   "cell_type": "markdown",
   "metadata": {},
   "source": [
    "Dataset Generation and Synthetic Data:"
   ]
  },
  {
   "cell_type": "code",
   "execution_count": null,
   "metadata": {},
   "outputs": [],
   "source": [
    "#Data creation for health dataset\n",
    "#Hours of exercise per week\n",
    "workout_hours = np.random.choice([1, 2, 3, 4, 5], size=100)"
   ]
  },
  {
   "cell_type": "markdown",
   "metadata": {},
   "source": [
    "`np.random.choice` is a 1-D Array and gives the choice of the 5 hours of exercise samples given (1-5). The shape of the data is the size(100) which is our 100 people/information points to generate."
   ]
  },
  {
   "cell_type": "code",
   "execution_count": null,
   "metadata": {},
   "outputs": [],
   "source": [
    "#https://numpy.org/doc/stable/reference/random/generated/numpy.random.choice.html"
   ]
  },
  {
   "cell_type": "code",
   "execution_count": null,
   "metadata": {},
   "outputs": [],
   "source": [
    "#Heart Rate\n",
    "heart_rate = np.random.normal(70, 10, size=100)\n",
    "#mean hr based on search with standard deviation of 10, this is also the base/resting heart rate."
   ]
  },
  {
   "cell_type": "code",
   "execution_count": null,
   "metadata": {},
   "outputs": [],
   "source": [
    "#https://numpy.org/doc/stable/reference/random/generated/numpy.random.normal.html"
   ]
  },
  {
   "cell_type": "code",
   "execution_count": null,
   "metadata": {},
   "outputs": [],
   "source": [
    "#age range\n",
    "age = np.random.randint(18, 81, size=100)"
   ]
  },
  {
   "cell_type": "code",
   "execution_count": null,
   "metadata": {},
   "outputs": [],
   "source": [
    "#https://numpy.org/doc/stable/reference/random/generated/numpy.random.randint.html"
   ]
  },
  {
   "cell_type": "code",
   "execution_count": null,
   "metadata": {},
   "outputs": [],
   "source": [
    "#bmi\n",
    "meanbmi = 27 - (workout_hours * 0.5)\n",
    "bmi = np.random.normal(meanbmi, 3, size=100)\n",
    "#assumed that the more you workout the lower you BMI "
   ]
  },
  {
   "cell_type": "code",
   "execution_count": null,
   "metadata": {},
   "outputs": [],
   "source": [
    "print(meanbmi)"
   ]
  },
  {
   "cell_type": "code",
   "execution_count": null,
   "metadata": {},
   "outputs": [],
   "source": [
    "print(bmi)"
   ]
  },
  {
   "cell_type": "markdown",
   "metadata": {},
   "source": [
    "To check that the variables are working and the kernal is working"
   ]
  },
  {
   "cell_type": "markdown",
   "metadata": {},
   "source": [
    "## Data Frame Creation"
   ]
  },
  {
   "cell_type": "code",
   "execution_count": 14,
   "metadata": {},
   "outputs": [],
   "source": [
    "data = pd.DataFrame({\n",
    "    'Exercise_Habits': workout_hours,\n",
    "    'BMI': bmi,\n",
    "    'Heart_Rate': heart_rate,\n",
    "    'Age': age\n",
    "})"
   ]
  },
  {
   "cell_type": "code",
   "execution_count": 16,
   "metadata": {},
   "outputs": [
    {
     "name": "stdout",
     "output_type": "stream",
     "text": [
      "    Exercise_Habits        BMI  Heart_Rate  Age\n",
      "0                 5  19.358169   74.543522   56\n",
      "1                 3  25.328151   95.216980   44\n",
      "2                 4  25.204937   65.237379   25\n",
      "3                 5  20.702323   63.625958   30\n",
      "4                 3  27.830117   48.103306   39\n",
      "..              ...        ...         ...  ...\n",
      "95                1  23.590205   85.603260   37\n",
      "96                5  24.870899   72.447330   63\n",
      "97                2  20.918395   62.884513   18\n",
      "98                5  24.050766   62.678204   19\n",
      "99                4  25.756391   55.238733   45\n",
      "\n",
      "[100 rows x 4 columns]\n"
     ]
    }
   ],
   "source": [
    "#test dataframe was created and functioning, displays first 5 rows as standard but I have put 100 in between the brackets to see 100 data points\n",
    "print(data.head(100))"
   ]
  },
  {
   "cell_type": "markdown",
   "metadata": {},
   "source": [
    "## Plotting\n",
    "\n",
    "Plotting various graphs to show the relationship between the variables and their synthetic data"
   ]
  }
 ],
 "metadata": {
  "kernelspec": {
   "display_name": "Python 3 (ipykernel)",
   "language": "python",
   "name": "python3"
  },
  "language_info": {
   "codemirror_mode": {
    "name": "ipython",
    "version": 3
   },
   "file_extension": ".py",
   "mimetype": "text/x-python",
   "name": "python",
   "nbconvert_exporter": "python",
   "pygments_lexer": "ipython3",
   "version": "3.9.13"
  },
  "vscode": {
   "interpreter": {
    "hash": "aee8b7b246df8f9039afb4144a1f6fd8d2ca17a180786b69acc140d282b71a49"
   }
  }
 },
 "nbformat": 4,
 "nbformat_minor": 2
}
