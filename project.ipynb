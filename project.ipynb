{
 "cells": [
  {
   "cell_type": "markdown",
   "metadata": {},
   "source": [
    "Project Intro:\n",
    "This investigation using synthetic data aims to explore the connections between the fitness level, heart rate, age and body mass index (BMI) of 100 individuals. The information gained from this data will help us look at how these factors relate to one another and the impacts each have on health and fitness."
   ]
  },
  {
   "cell_type": "code",
   "execution_count": 22,
   "metadata": {
    "collapsed": true
   },
   "outputs": [],
   "source": [
    "#importing libraries for use in project code below\n",
    "import numpy as np\n",
    "import pandas as pd\n",
    "import matplotlib.pyplot as plt\n",
    "import seaborn as sns"
   ]
  },
  {
   "cell_type": "code",
   "execution_count": 23,
   "metadata": {
    "collapsed": true
   },
   "outputs": [],
   "source": [
    "#Packages References:\n",
    "#https://numpy.org\n",
    "#https://pandas.pydata.org\n",
    "#https://matplotlib.org\n",
    "#https://seaborn.pydata.org"
   ]
  },
  {
   "cell_type": "markdown",
   "metadata": {},
   "source": [
    "Variables & Distributions:\n",
    "\n",
    "`workout_hours` - catagorical/discrete variable (set values indicating hours of exercise 1-5 each week) and this data is synthesise using the choice random method between the hour number options.\n",
    "`heart_rate` - continuous variable - as heart rate could have any number of infinite values. For this we will use 60 - 200bpm as this is the range of optimal heart rates for people between 20 and 80 (changes depending on age as we will hopefully see) and is generated using a normal distribution\n",
    "`age` - discrete variable - will generate the age through random package np between ages of 18 and 80. This data will be generated using randint.\n",
    "`bmi` - continuous variable like heart_rate - It is assumed that BMI increases with increasing exercise hours following a normal distribution similar to heart_rate"
   ]
  },
  {
   "cell_type": "code",
   "execution_count": 24,
   "metadata": {
    "collapsed": true
   },
   "outputs": [],
   "source": [
    "#References Variables & Distributions\n",
    "#https://pandas.pydata.org/docs/user_guide/categorical.html\n",
    "#https://www.codecademy.com/learn/stats-variable-types/modules/stats-variable-types/cheatsheet#\n",
    "#https://seaborn.pydata.org/tutorial/categorical.html\n",
    "#https://www.codecademy.com/learn/mlef-exploratory-data-analysis-in-python/modules/mlef-variable-types-for-data-science/cheatsheet\n",
    "#https://levelup.gitconnected.com/when-and-how-to-categorize-continuous-variables-in-python-f4c3b357dd46\n",
    "#https://subscription.packtpub.com/book/data/9781789806311/1/ch01lvl1sec03/identifying-numerical-and-categorical-variables\n",
    "#https://www.health.harvard.edu/heart-health/what-your-heart-rate-is-telling-you\n",
    "#https://uihc.org/health-topics/target-heart-rate-exercise\n",
    "#https://sparkbyexamples.com/python/how-to-use-numpy-random-choice-in-python/"
   ]
  },
  {
   "cell_type": "markdown",
   "metadata": {},
   "source": [
    "Dataset Generation and Synthetic Data:"
   ]
  },
  {
   "cell_type": "code",
   "execution_count": 25,
   "metadata": {
    "collapsed": true
   },
   "outputs": [],
   "source": [
    "#Data creation for health dataset\n",
    "#Hours of exercise per week\n",
    "workout_hours = np.random.choice([1, 2, 3, 4, 5], size=100)"
   ]
  },
  {
   "cell_type": "markdown",
   "metadata": {},
   "source": [
    "`np.random.choice` is a 1-D Array and gives the choice of the 5 hours of exercise samples given (1-5). The shape of the data is the size(100) which is our 100 people/information points to generate."
   ]
  },
  {
   "cell_type": "code",
   "execution_count": 26,
   "metadata": {
    "collapsed": true
   },
   "outputs": [],
   "source": [
    "#https://numpy.org/doc/stable/reference/random/generated/numpy.random.choice.html"
   ]
  },
  {
   "cell_type": "code",
   "execution_count": 27,
   "metadata": {
    "collapsed": true
   },
   "outputs": [],
   "source": [
    "#Heart Rate\n",
    "heart_rate = np.random.normal(70, 10, size=100)\n",
    "#mean hr based on search with standard deviation of 10, this is also the base/resting heart rate."
   ]
  },
  {
   "cell_type": "code",
   "execution_count": 28,
   "metadata": {
    "collapsed": true
   },
   "outputs": [],
   "source": [
    "#https://numpy.org/doc/stable/reference/random/generated/numpy.random.normal.html"
   ]
  },
  {
   "cell_type": "code",
   "execution_count": 29,
   "metadata": {
    "collapsed": true
   },
   "outputs": [],
   "source": [
    "#age range\n",
    "age = np.random.randint(18, 81, size=100)"
   ]
  },
  {
   "cell_type": "code",
   "execution_count": 30,
   "metadata": {
    "collapsed": true
   },
   "outputs": [],
   "source": [
    "#https://numpy.org/doc/stable/reference/random/generated/numpy.random.randint.html"
   ]
  },
  {
   "cell_type": "code",
   "execution_count": 31,
   "metadata": {
    "collapsed": true
   },
   "outputs": [],
   "source": [
    "#bmi\n",
    "meanbmi = 27 - (workout_hours * 0.5)\n",
    "bmi = np.random.normal(meanbmi, 3, size=100)\n",
    "#assumed that the more you workout the lower you BMI "
   ]
  },
  {
   "cell_type": "code",
   "execution_count": 32,
   "metadata": {
    "collapsed": true
   },
   "outputs": [
    {
     "name": "stdout",
     "output_type": "stream",
     "text": [
      "[25.  25.  24.5 26.5 26.5 25.  24.5 24.5 24.5 24.5 26.5 25.  25.5 25.\n",
      " 25.5 24.5 25.5 25.5 26.  25.  25.  24.5 26.5 24.5 26.  25.  25.5 25.\n",
      " 24.5 26.  26.5 24.5 25.  26.5 25.5 25.  24.5 25.5 25.  25.5 24.5 25.5\n",
      " 26.  26.  25.  26.  26.  25.5 24.5 24.5 25.5 25.5 26.  25.  25.5 25.5\n",
      " 26.  25.5 25.  24.5 26.5 26.5 26.  24.5 26.5 24.5 25.  25.5 26.5 25.\n",
      " 24.5 25.5 25.5 26.5 25.5 25.5 26.  26.5 25.  25.5 26.5 25.  24.5 25.5\n",
      " 25.5 25.5 24.5 25.  25.5 25.5 24.5 25.  24.5 24.5 26.  25.  25.  26.\n",
      " 25.  25. ]\n"
     ]
    }
   ],
   "source": [
    "print(meanbmi)"
   ]
  },
  {
   "cell_type": "code",
   "execution_count": 33,
   "metadata": {
    "collapsed": true
   },
   "outputs": [
    {
     "name": "stdout",
     "output_type": "stream",
     "text": [
      "[19.2693846  15.46198842 27.57092738 30.96304074 22.14276411 26.98915539\n",
      " 28.8965735  24.71773333 27.24704176 24.10520291 25.95859302 25.65172335\n",
      " 19.31548083 25.1817803  25.25850198 26.29809543 23.85692887 27.49104482\n",
      " 27.79282824 24.91696165 23.7264832  26.76833571 29.5414791  23.83698721\n",
      " 26.22849387 20.88095808 25.84894929 27.27208078 21.38825124 25.98019181\n",
      " 25.26643273 23.18127631 25.32406945 24.87684299 24.47864138 25.65848398\n",
      " 21.8010856  26.56337823 26.07049608 26.55165791 20.33595582 24.01754611\n",
      " 27.02066333 26.58459646 23.39187567 21.20669163 26.9166702  26.83945081\n",
      " 24.64902114 24.49860013 20.48591634 26.30867957 25.40290726 25.36133085\n",
      " 31.27475444 23.77603402 23.58069707 23.13849334 24.01988344 25.72311241\n",
      " 29.72766856 27.22434473 28.86117895 25.15092623 18.26966574 33.31160916\n",
      " 26.7849648  20.15385466 33.87990801 21.46591973 22.57348132 27.73764023\n",
      " 26.11886691 30.80774802 27.90255122 26.94154615 22.2934054  28.00325634\n",
      " 20.63984892 24.4376474  22.33909421 26.37057101 21.39181246 23.93765731\n",
      " 25.84807913 25.25071803 26.78579168 21.81249991 27.07531927 29.36521262\n",
      " 17.65787465 21.20076321 27.45900837 20.53594458 28.08750548 27.57881905\n",
      " 26.43063408 27.65951956 19.86843619 23.56487172]\n"
     ]
    }
   ],
   "source": [
    "print(bmi)"
   ]
  },
  {
   "cell_type": "markdown",
   "metadata": {},
   "source": [
    "To check that the variables are working and the kernal is working"
   ]
  },
  {
   "cell_type": "markdown",
   "metadata": {},
   "source": [
    "## Data Frame Creation"
   ]
  },
  {
   "cell_type": "code",
   "execution_count": 34,
   "metadata": {
    "collapsed": true
   },
   "outputs": [],
   "source": [
    "data = pd.DataFrame({\n",
    "    'Exercise_Habits': workout_hours,\n",
    "    'BMI': bmi,\n",
    "    'Heart_Rate': heart_rate,\n",
    "    'Age': age\n",
    "})"
   ]
  },
  {
   "cell_type": "code",
   "execution_count": 35,
   "metadata": {
    "collapsed": true
   },
   "outputs": [],
   "source": [
    "#https://pandas.pydata.org/docs/reference/api/pandas.DataFrame.html\n",
    "#https://www.w3schools.com/python/pandas/pandas_dataframes.asp"
   ]
  },
  {
   "cell_type": "markdown",
   "metadata": {},
   "source": [
    "#### Test dataframe was created and functioning using the `describe()` method. Displays first 5 rows as standard but I have put 100 in between the brackets to see 100 data points:\n"
   ]
  },
  {
   "cell_type": "code",
   "execution_count": 36,
   "metadata": {
    "collapsed": true
   },
   "outputs": [
    {
     "name": "stdout",
     "output_type": "stream",
     "text": [
      "    Exercise_Habits        BMI  Heart_Rate  Age\n",
      "0                 4  19.269385   75.275127   43\n",
      "1                 4  15.461988   57.347680   20\n",
      "2                 5  27.570927   83.316228   70\n",
      "3                 1  30.963041   63.029273   55\n",
      "4                 1  22.142764   73.562739   71\n",
      "..              ...        ...         ...  ...\n",
      "95                4  27.578819   67.258131   73\n",
      "96                4  26.430634   56.701320   49\n",
      "97                2  27.659520   76.162185   43\n",
      "98                4  19.868436   65.740383   24\n",
      "99                4  23.564872   76.561455   37\n",
      "\n",
      "[100 rows x 4 columns]\n"
     ]
    }
   ],
   "source": [
    "print(data.head(100))"
   ]
  },
  {
   "cell_type": "code",
   "execution_count": 37,
   "metadata": {
    "collapsed": true
   },
   "outputs": [],
   "source": [
    "#https://pandas.pydata.org/docs/reference/api/pandas.DataFrame.head.html"
   ]
  },
  {
   "cell_type": "markdown",
   "metadata": {},
   "source": [
    "#### Summary of data using the `describe()` method"
   ]
  },
  {
   "cell_type": "code",
   "execution_count": 38,
   "metadata": {
    "collapsed": true
   },
   "outputs": [
    {
     "name": "stdout",
     "output_type": "stream",
     "text": [
      "       Exercise_Habits         BMI  Heart_Rate         Age\n",
      "count       100.000000  100.000000  100.000000  100.000000\n",
      "mean          3.320000   25.073694   70.295400   49.550000\n",
      "std           1.317175    3.238593   10.379848   17.938377\n",
      "min           1.000000   15.461988   50.499135   18.000000\n",
      "25%           2.000000   23.339226   62.260099   34.750000\n",
      "50%           3.000000   25.382119   69.522292   49.000000\n",
      "75%           4.000000   26.997032   76.315368   67.000000\n",
      "max           5.000000   33.879908   95.223160   80.000000\n"
     ]
    }
   ],
   "source": [
    "#summarize data\n",
    "print(data.describe())"
   ]
  },
  {
   "cell_type": "code",
   "execution_count": 39,
   "metadata": {
    "collapsed": true
   },
   "outputs": [],
   "source": [
    "#https://pandas.pydata.org/docs/reference/api/pandas.DataFrame.describe.html"
   ]
  },
  {
   "cell_type": "markdown",
   "metadata": {},
   "source": [
    "## Plotting\n",
    "\n",
    "Plotting various graphs to show the relationship between the variables and their synthetic data"
   ]
  },
  {
   "cell_type": "code",
   "execution_count": null,
   "metadata": {},
   "outputs": [],
   "source": []
  }
 ],
 "metadata": {
  "kernelspec": {
   "display_name": "Python 3 (ipykernel)",
   "language": "python",
   "name": "python3"
  },
  "language_info": {
   "codemirror_mode": {
    "name": "ipython",
    "version": 3
   },
   "file_extension": ".py",
   "mimetype": "text/x-python",
   "name": "python",
   "nbconvert_exporter": "python",
   "pygments_lexer": "ipython3",
   "version": "3.9.13"
  },
  "vscode": {
   "interpreter": {
    "hash": "aee8b7b246df8f9039afb4144a1f6fd8d2ca17a180786b69acc140d282b71a49"
   }
  }
 },
 "nbformat": 4,
 "nbformat_minor": 2
}
