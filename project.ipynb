{
 "cells": [
  {
   "attachments": {},
   "cell_type": "markdown",
   "metadata": {},
   "source": [
    "Project Intro:\n",
    "This investigation using synthetic data aims to explore the connections between the fitness level, heart rate, age and body mass index (BMI) of 100 individuals. The information gained from this data will help us look at how these factors relate to one another and the impacts each have on health and fitness."
   ]
  },
  {
   "cell_type": "code",
   "execution_count": null,
   "metadata": {},
   "outputs": [],
   "source": [
    "#importing libraries for use in project code below\n",
    "import numpy as np\n",
    "import pandas as pd\n",
    "import matplotlib.pyplot as plt\n",
    "import seaborn as sns"
   ]
  },
  {
   "attachments": {},
   "cell_type": "markdown",
   "metadata": {},
   "source": [
    "Variables:\n",
    "\n",
    "`fitness_level` - catagorical/discrete variable\n",
    "`heart_rate` - continuous variable - as heart rate could have any number of infinite values(for this we will use between 70 and 140)\n",
    "`age`\n",
    "`bmi`"
   ]
  },
  {
   "cell_type": "code",
   "execution_count": null,
   "metadata": {},
   "outputs": [],
   "source": [
    "#https://pandas.pydata.org/docs/user_guide/categorical.html\n",
    "#https://seaborn.pydata.org/tutorial/categorical.html\n",
    "#https://www.codecademy.com/learn/mlef-exploratory-data-analysis-in-python/modules/mlef-variable-types-for-data-science/cheatsheet\n",
    "#https://levelup.gitconnected.com/when-and-how-to-categorize-continuous-variables-in-python-f4c3b357dd46\n",
    "#https://subscription.packtpub.com/book/data/9781789806311/1/ch01lvl1sec03/identifying-numerical-and-categorical-variables\n"
   ]
  }
 ],
 "metadata": {
  "kernelspec": {
   "display_name": "Python 3",
   "language": "python",
   "name": "python3"
  },
  "language_info": {
   "name": "python",
   "version": "3.9.13 (main, Aug 25 2022, 18:29:29) \n[Clang 12.0.0 ]"
  },
  "orig_nbformat": 4,
  "vscode": {
   "interpreter": {
    "hash": "38e2b36688e079b84d87fca17add6d5ca7c350c26e4821df0e23e2b3930c0607"
   }
  }
 },
 "nbformat": 4,
 "nbformat_minor": 2
}
