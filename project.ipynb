{
 "cells": [
  {
   "attachments": {},
   "cell_type": "markdown",
   "metadata": {},
   "source": [
    "Project Intro:\n",
    "This investigation using synthetic data aims to explore the connections between the fitness level, heart rate, age and body mass index (BMI) of 100 individuals. The information gained from this data will help us look at how these factors relate to one another and the impacts each have on health and fitness."
   ]
  },
  {
   "cell_type": "code",
   "execution_count": null,
   "metadata": {},
   "outputs": [],
   "source": [
    "#importing libraries for use in project code below\n",
    "import numpy as np\n",
    "import pandas as pd\n",
    "import matplotlib.pyplot as plt\n",
    "import seaborn as sns"
   ]
  },
  {
   "cell_type": "code",
   "execution_count": null,
   "metadata": {},
   "outputs": [],
   "source": [
    "#Packages References:\n",
    "#https://numpy.org\n",
    "#https://pandas.pydata.org\n",
    "#https://matplotlib.org\n",
    "#https://seaborn.pydata.org"
   ]
  },
  {
   "attachments": {},
   "cell_type": "markdown",
   "metadata": {},
   "source": [
    "Variables & Distributions:\n",
    "\n",
    "`workout_hours` - catagorical/discrete variable (set values indicating hours of exercise 1-5 each week) and this data is synthesise using the choice random method between the hour number options.\n",
    "`heart_rate` - continuous variable - as heart rate could have any number of infinite values. For this we will use 60 - 200bpm as this is the range of optimal heart rates for people between 20 and 80 (changes depending on age as we will hopefully see) and is generated using a normal distribution\n",
    "`age` - discrete variable - will generate the age through random package np between ages of 18 and 80. This data will be generated using randint.\n",
    "`bmi` - continuous variable like heart_rate - It is assumed that BMI increases with increasing exercise hours following a normal distribution similar to heart_rate"
   ]
  },
  {
   "cell_type": "code",
   "execution_count": null,
   "metadata": {},
   "outputs": [],
   "source": [
    "#References Variables & Distributions\n",
    "#https://pandas.pydata.org/docs/user_guide/categorical.html\n",
    "#https://www.codecademy.com/learn/stats-variable-types/modules/stats-variable-types/cheatsheet#\n",
    "#https://seaborn.pydata.org/tutorial/categorical.html\n",
    "#https://www.codecademy.com/learn/mlef-exploratory-data-analysis-in-python/modules/mlef-variable-types-for-data-science/cheatsheet\n",
    "#https://levelup.gitconnected.com/when-and-how-to-categorize-continuous-variables-in-python-f4c3b357dd46\n",
    "#https://subscription.packtpub.com/book/data/9781789806311/1/ch01lvl1sec03/identifying-numerical-and-categorical-variables\n",
    "#https://www.health.harvard.edu/heart-health/what-your-heart-rate-is-telling-you\n",
    "#https://uihc.org/health-topics/target-heart-rate-exercise\n",
    "#https://sparkbyexamples.com/python/how-to-use-numpy-random-choice-in-python/\n",
    "#https://numpy.org/doc/stable/reference/random/generated/numpy.random.choice.html\n"
   ]
  }
 ],
 "metadata": {
  "kernelspec": {
   "display_name": "Python 3",
   "language": "python",
   "name": "python3"
  },
  "language_info": {
   "name": "python",
   "version": "3.9.13 (main, Aug 25 2022, 18:29:29) \n[Clang 12.0.0 ]"
  },
  "orig_nbformat": 4,
  "vscode": {
   "interpreter": {
    "hash": "38e2b36688e079b84d87fca17add6d5ca7c350c26e4821df0e23e2b3930c0607"
   }
  }
 },
 "nbformat": 4,
 "nbformat_minor": 2
}
